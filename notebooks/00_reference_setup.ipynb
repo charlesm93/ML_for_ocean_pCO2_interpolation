{
 "cells": [
  {
   "cell_type": "markdown",
   "metadata": {},
   "source": [
    "### Description"
   ]
  },
  {
   "cell_type": "markdown",
   "metadata": {},
   "source": [
    "This file sets up the dictionary of names and random seeds for use throughout the analysis"
   ]
  },
  {
   "cell_type": "markdown",
   "metadata": {},
   "source": [
    "### Inputs"
   ]
  },
  {
   "cell_type": "code",
   "execution_count": 1,
   "metadata": {},
   "outputs": [],
   "source": [
    "# =========================================\n",
    "# For accessing directories\n",
    "# =========================================\n",
    "root_dir = \"/local/data/artemis/workspace/jfs2167/recon_eval\" # Set this to the path of the project\n",
    "reference_output_dir = f\"{root_dir}/references\""
   ]
  },
  {
   "cell_type": "markdown",
   "metadata": {},
   "source": [
    "### Modules"
   ]
  },
  {
   "cell_type": "code",
   "execution_count": 2,
   "metadata": {},
   "outputs": [],
   "source": [
    "from collections import defaultdict\n",
    "import numpy as np\n",
    "import pickle"
   ]
  },
  {
   "cell_type": "markdown",
   "metadata": {},
   "source": [
    "### Creating reference dictionaries and arrays"
   ]
  },
  {
   "cell_type": "code",
   "execution_count": 3,
   "metadata": {},
   "outputs": [],
   "source": [
    "# =========================================\n",
    "# Ensemble lists\n",
    "# =========================================\n",
    "mems_dict = {} \n",
    "mems_dict['CanESM2'] = ['r1r10','r1r9','r3r1','r3r8','r4r5','r5r10','r1r4','r2r1','r3r2','r3r9','r4r6','r5r2','r1r6','r2r2','r3r4','r4r1','r4r7','r5r4','r1r7','r2r3','r3r6','r4r10','r4r8','r5r5','r1r8','r2r8','r3r7','r4r3','r5r1','r5r9']\n",
    "mems_dict['CESM'] = ['001','002','009','010','011','012','013','014','015','016','017','018','020','021','023','024','025','030','031','034','035','101','102','103','104']\n",
    "mems_dict['GFDL'] = ['01','02','03','04','05','06','08','09','10','11','12','13','14','15','16','17','18','19','20','22','23','24','26','27','28','29','30']\n",
    "mems_dict['MPI'] = ['006','009','014','018','020','021','022','024','025','027','028','038','039','041','043','045','046','057','060','064','070','075','077','078','080','081','083','091','095','098']\n",
    "\n",
    "# =========================================\n",
    "# Reducing to the 100 member LET\n",
    "# =========================================\n",
    "mems_dict_LET = {}\n",
    "members=[1,2,9,10,11,12,13,14,15,16,17,18,20,21,23,24,25,30,31,34,35,101,102,103,104]\n",
    "mems_dict_LET[\"CESM\"] = [x for x in mems_dict[\"CESM\"] if int(x) in members]\n",
    "members=[1,2,3,4,5,6,8,9,10,11,12,13,14,16,17,18,19,20,22,23,26,27,28,29,30]\n",
    "mems_dict_LET[\"GFDL\"] = [x for x in mems_dict[\"GFDL\"] if int(x) in members]\n",
    "members=[6,9,14,20,22,24,25,27,38,43,45,46,57,60,64,70,75,77,78,80,81,83,91,95,98]\n",
    "mems_dict_LET[\"MPI\"] = [x for x in mems_dict[\"MPI\"] if int(x) in members]\n",
    "members=['r1r10', 'r1r6', 'r1r7', 'r1r9', 'r2r1', 'r2r2', 'r2r8', 'r3r1', 'r3r2', 'r3r4',\n",
    "        'r3r6', 'r3r7', 'r3r9', 'r4r1', 'r4r3', 'r4r5', 'r4r6', 'r4r7', 'r4r8', 'r5r1', \n",
    "        'r5r10', 'r5r2', 'r5r4', 'r5r5', 'r5r9']        \n",
    "mems_dict_LET[\"CanESM2\"] = [x for x in mems_dict[\"CanESM2\"] if x in members]\n",
    "\n",
    "# =========================================\n",
    "# For seeding random states\n",
    "# =========================================\n",
    "\n",
    "# Generate a random array of integers of size # total ensemble members\n",
    "# Use these integers as seeds for the various random parts of the modeling process\n",
    "num_mems = sum([len(value) for value in mems_dict.values()])\n",
    "np.random.RandomState(10)\n",
    "random_seeds = np.random.randint(1000, size=(50,num_mems))\n",
    "\n",
    "# Creating a dictionary to access the seed column based on ensemble/member names\n",
    "seed_count = 0\n",
    "seed_loc_dict = defaultdict(dict)\n",
    "for ens,ens_list in mems_dict.items():\n",
    "    for member in ens_list:\n",
    "        seed_loc_dict[ens][member] = seed_count\n",
    "        seed_count +=1"
   ]
  },
  {
   "cell_type": "markdown",
   "metadata": {},
   "source": [
    "### Saving references to a directory"
   ]
  },
  {
   "cell_type": "code",
   "execution_count": null,
   "metadata": {},
   "outputs": [],
   "source": [
    "path_mems = f\"{reference_output_dir}/members_dict.pickle\"\n",
    "path_LET = f\"{reference_output_dir}/members_LET_dict.pickle\"\n",
    "path_seeds = f\"{reference_output_dir}/random_seeds.npy\"\n",
    "path_loc = f\"{reference_output_dir}/members_seed_loc_dict.pickle\"\n",
    "\n",
    "with open(path_mems, 'wb') as handle:\n",
    "    pickle.dump(mems_dict, handle)\n",
    "    \n",
    "with open(path_LET, 'wb') as handle:\n",
    "    pickle.dump(mems_dict_LET, handle)\n",
    "    \n",
    "np.save(path_seeds, random_seeds)\n",
    "\n",
    "with open(path_loc, 'wb') as handle:\n",
    "    pickle.dump(seed_loc_dict, handle, protocol=pickle.HIGHEST_PROTOCOL)"
   ]
  },
  {
   "cell_type": "code",
   "execution_count": null,
   "metadata": {},
   "outputs": [],
   "source": [
    "# Code for loading in these files\n",
    "reference_output_dir = \"/local/data/artemis/workspace/jfs2167/recon_eval/references\"\n",
    "\n",
    "path_mems = f\"{reference_output_dir}/members_dict.pickle\"\n",
    "path_LET = f\"{reference_output_dir}/members_LET_dict.pickle\"\n",
    "path_seeds = f\"{reference_output_dir}/random_seeds.npy\"\n",
    "path_loc = f\"{reference_output_dir}/members_seed_loc_dict.pickle\"\n",
    "\n",
    "with open(path_mems,'rb') as handle:\n",
    "    mems_dict = pickle.load(handle)\n",
    "\n",
    "with open(path_LET,'rb') as handle:\n",
    "    LET_dict = pickle.load(handle)\n",
    "    \n",
    "random_seeds = np.load(path_seeds)    \n",
    "    \n",
    "with open(path_loc,'rb') as handle:\n",
    "    seed_loc_dict = pickle.load(handle)"
   ]
  },
  {
   "cell_type": "code",
   "execution_count": 4,
   "metadata": {},
   "outputs": [],
   "source": [
    "path_mems = f\"{reference_output_dir}/members_dict.pickle\"\n",
    "path_LET = f\"{reference_output_dir}/members_LET_dict.pickle\"\n",
    "path_seeds = f\"{reference_output_dir}/random_seeds.npy\"\n",
    "path_loc = f\"{reference_output_dir}/members_seed_loc_dict.pickle\"\n",
    "\n",
    "with open(path_LET, 'wb') as handle:\n",
    "    pickle.dump(mems_dict_LET, handle)"
   ]
  }
 ],
 "metadata": {
  "kernelspec": {
   "display_name": "Python3 (jfs_devd)",
   "language": "python",
   "name": "jfs_devd"
  },
  "language_info": {
   "codemirror_mode": {
    "name": "ipython",
    "version": 3
   },
   "file_extension": ".py",
   "mimetype": "text/x-python",
   "name": "python",
   "nbconvert_exporter": "python",
   "pygments_lexer": "ipython3",
   "version": "3.6.10"
  }
 },
 "nbformat": 4,
 "nbformat_minor": 2
}
